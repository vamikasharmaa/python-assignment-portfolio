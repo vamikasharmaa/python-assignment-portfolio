{
 "cells": [
  {
   "cell_type": "code",
   "execution_count": null,
   "id": "6305d0a1",
   "metadata": {},
   "outputs": [],
   "source": [
    "import matplotlib.pyplot as plt\n",
    "import numpy as np\n",
    "\n",
    "def gradient_descent (f,learning_rate,initial_point): #estimate derivative of function f at base_point\n",
    "    def deriv(f,base_point):\n",
    "        return (f(base_point+10**(-5))-f(base_point))/(10**(-5))\n",
    "    \n",
    "    x_coords=[initial_point] #store the x_n's\n",
    "    y_coords=[f(initial_point)] #store the y_n's\n",
    "    \n",
    "    \n",
    "    linearapproxinit=initial_point-learning_rate*deriv(f,initial_point)\n",
    "    point=intial_point-learning_rate*deriv(f,initial_point) #starting point/x1\n",
    "    for i in range(100):\n",
    "        point=point-learning_rate*deriv(f,initial_point)#everytime u iterate through the loop, this point will change \n",
    "        if deriv(f,point)<0.001: #looking for when the derivative is 0, within tolerance of 0.001\n",
    "            x_coords.append(point)\n",
    "            y_coords.append(f(point))\n",
    "            point=point-learning_rate*deriv(f,point)\n",
    "            if deriv(f,point)<0.001\n",
    "    \n",
    "    \n",
    "    \n",
    "    #plot the graph when u find the minimum if found thorugh loop\n",
    "    #if you dont find minimum, either increase step size or there is no minimum\n",
    "    \n",
    "    \n",
    "    plot_range=np.linspace(min(x_coords) -0.5,\n",
    "                           max(x_coords) + 0.5,10000)\n",
    "    function_range=[f(i) for i in plot_range]\n",
    "    plt.plot(plot_range, function_range)\n",
    "    plt.plot(x_coords,y_coords)\n",
    "    \n",
    "    return round(x_coords[-1],3), round(y+coords[-1],3)"
   ]
  }
 ],
 "metadata": {
  "kernelspec": {
   "display_name": "Python 3 (ipykernel)",
   "language": "python",
   "name": "python3"
  },
  "language_info": {
   "codemirror_mode": {
    "name": "ipython",
    "version": 3
   },
   "file_extension": ".py",
   "mimetype": "text/x-python",
   "name": "python",
   "nbconvert_exporter": "python",
   "pygments_lexer": "ipython3",
   "version": "3.11.4"
  }
 },
 "nbformat": 4,
 "nbformat_minor": 5
}
