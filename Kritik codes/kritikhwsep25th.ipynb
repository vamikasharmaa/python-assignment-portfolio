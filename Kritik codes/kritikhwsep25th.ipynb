{
 "cells": [
  {
   "cell_type": "code",
   "execution_count": null,
   "id": "1f49947f",
   "metadata": {},
   "outputs": [],
   "source": []
  },
  {
   "cell_type": "code",
   "execution_count": 18,
   "id": "5f8d6d9b",
   "metadata": {},
   "outputs": [
    {
     "name": "stdout",
     "output_type": "stream",
     "text": [
      " enter a value for x.  69\n",
      "error\n",
      "None\n"
     ]
    }
   ],
   "source": [
    "peepee = float(input(\" enter a value for x.  \")) #allows user to enter a value for x\n",
    "                                                   #keep outside of function,, this is the error\n",
    "s = 0 #starts at 0\n",
    "n = 0 #starting with 0\n",
    "def poopoo(x):\n",
    "    s = 0\n",
    "    n = 0\n",
    "    error_bound = (x**(2*n+1))/(2*n+1)\n",
    "    if 0 <= x <= 1:\n",
    "        while error_bound > 0.0001:   #we defined this as error_bound\n",
    "            n+=1 #adds one to n each time\n",
    "            error_bound = (x**(2*n+1))/(2*n+1) #after this is done, you have an n!\n",
    "        for i in range(0,n-1): \n",
    "            s+=((-1)**i*peepee**(2*i+1))/(2*i+1) #approximation\n",
    "        nn = 2*n+1\n",
    "        return s,nn,error_bound #n is the power of the polynomial\n",
    "    else:\n",
    "        print(\"error\")\n",
    "print (poopoo(peepee))\n"
   ]
  },
  {
   "cell_type": "code",
   "execution_count": null,
   "id": "e68cdbb0",
   "metadata": {},
   "outputs": [],
   "source": []
  }
 ],
 "metadata": {
  "kernelspec": {
   "display_name": "Python 3 (ipykernel)",
   "language": "python",
   "name": "python3"
  },
  "language_info": {
   "codemirror_mode": {
    "name": "ipython",
    "version": 3
   },
   "file_extension": ".py",
   "mimetype": "text/x-python",
   "name": "python",
   "nbconvert_exporter": "python",
   "pygments_lexer": "ipython3",
   "version": "3.11.4"
  }
 },
 "nbformat": 4,
 "nbformat_minor": 5
}
