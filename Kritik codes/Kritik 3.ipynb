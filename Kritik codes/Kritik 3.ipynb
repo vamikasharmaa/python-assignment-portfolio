{
 "cells": [
  {
   "cell_type": "code",
   "execution_count": 4,
   "id": "6b626d3c",
   "metadata": {},
   "outputs": [
    {
     "name": "stdout",
     "output_type": "stream",
     "text": [
      "0.999\n",
      "0.999\n",
      "1.001\n",
      "1.001\n"
     ]
    }
   ],
   "source": [
    "def f(x):\n",
    "    return x**2\n",
    "c=1\n",
    "E=0.1 #this is the error\n",
    "\n",
    "n=100 #how many times we want the loop to run\n",
    "x1=c #change in small amouts using loops to get them further from eachother - points at x axis where we evaluate approximation and function\n",
    "x2=c\n",
    "deltax=10**(-8) #should be very small\n",
    "d=0.001\n",
    "\n",
    "\n",
    "def fprime(x):\n",
    "    return (f(x+deltax)-f(x-deltax))/(2*deltax)\n",
    "def L(x):\n",
    "    return f(c) + fprime(c)*(x-c)\n",
    "\n",
    "for i in range(n): #2 loops: 1 runs and then the other\n",
    "    x1-=d \n",
    "    if abs(f(x1)-L(x1))<= E:\n",
    "        print(x1)\n",
    "        break\n",
    "if abs(f(x1)-L(x1)) <= E:\n",
    "        print(x1)\n",
    "else:\n",
    "    print(\"no such value found for x1 found\") #take this out of the loop so that it doesn't always just run this\n",
    "for i in range(n):\n",
    "    x2+=d\n",
    "    if abs(f(x2)-L(x2))<=E: #want the difference between them to be very small - we aren't going to get the absolute difference\n",
    "        print(x2)\n",
    "        break\n",
    "if abs(f(x2)-L(x2))<=E: #want the difference between them to be very small - we aren't going to get the absolute difference\n",
    "    print(x2)\n",
    "else:\n",
    "    print(\"no such value for x2 found\")\n",
    "  \n",
    "    "
   ]
  },
  {
   "cell_type": "code",
   "execution_count": null,
   "id": "9e1655f9",
   "metadata": {},
   "outputs": [],
   "source": []
  }
 ],
 "metadata": {
  "kernelspec": {
   "display_name": "Python 3 (ipykernel)",
   "language": "python",
   "name": "python3"
  },
  "language_info": {
   "codemirror_mode": {
    "name": "ipython",
    "version": 3
   },
   "file_extension": ".py",
   "mimetype": "text/x-python",
   "name": "python",
   "nbconvert_exporter": "python",
   "pygments_lexer": "ipython3",
   "version": "3.11.4"
  }
 },
 "nbformat": 4,
 "nbformat_minor": 5
}
