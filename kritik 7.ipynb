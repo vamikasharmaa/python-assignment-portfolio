{
 "cells": [
  {
   "cell_type": "code",
   "execution_count": 24,
   "id": "c8f970a8",
   "metadata": {},
   "outputs": [
    {
     "name": "stdout",
     "output_type": "stream",
     "text": [
      "Mean: 82.382\n",
      "Standard Deviation: 10.193467189005581\n",
      "t-Value: 2.290087686017293\n",
      "t-Star: 1.8331833183318338\n",
      "Comparison Result: Reject the null hypothesis. There is a statistically significant difference.\n"
     ]
    }
   ],
   "source": [
    "import numpy as np\n",
    "from math import gamma, sqrt\n",
    "\n",
    "# Given data\n",
    "national_average = 75\n",
    "test_scores = [92.64, 79.00, 84.79, 97.41, 93.68, 65.23, 84.50, 73.49, 73.97, 79.11]\n",
    "\n",
    "def calculate_mean_and_std(data): #calculating mean and standard deviation here using formular\n",
    "    n = len(data)\n",
    "    mean = sum(data) / n\n",
    "    squared_diff = sum((x - mean) ** 2 for x in data)\n",
    "    std_dev = (squared_diff / (n - 1)) ** 0.5\n",
    "    return mean, std_dev\n",
    "\n",
    "def calculate_t_value(mean, std_dev, n): #finding t0 value\n",
    "    t_value = (mean - 75) / (std_dev / (n ** 0.5))\n",
    "    return t_value\n",
    "\n",
    "def find_t_star(nu, x_start=-10, x_end=10, num_points=10000): #finding t star value\n",
    "    prob = 0.95\n",
    "    x = np.linspace(x_start, x_end, num_points)\n",
    "    y = t_distribution_pdf(x, nu)\n",
    "    cdf = np.cumsum(y) * (x[1] - x[0])\n",
    "\n",
    "    # Checking if cdf is empty OR max value < desired probability\n",
    "    if len(cdf) == 0 or np.max(cdf) < prob:\n",
    "        print(\"Error: Cumulative distribution function does not reach the desired probability.\")\n",
    "        return None\n",
    "\n",
    "    # Find the t-value where cumulative probability reaches the desired probability\n",
    "    index = np.where(cdf >= prob)[0][0]\n",
    "    return x[index]\n",
    "\n",
    "def t_distribution_pdf(x, nu): #calculates probability distribution function\n",
    "    prefactor = gamma((nu + 1) / 2) / (sqrt(nu * np.pi) * gamma(nu / 2))\n",
    "    pdf = prefactor * (1 + x**2 / nu) ** (- (nu + 1) / 2)\n",
    "    return pdf\n",
    "\n",
    "def compare_t_values(t_value, tn, nu): #compares t-value with critical value\n",
    "    alpha = 0.05\n",
    "\n",
    "    if tn is None:\n",
    "        return \"Error: Unable to determine critical value. Check cumulative distribution function.\"\n",
    "\n",
    "    critical_value = abs(t_distribution_pdf(tn, nu))\n",
    "\n",
    "    if abs(t_value) > critical_value:\n",
    "        return \"Reject the null hypothesis. There is a statistically significant difference.\"\n",
    "    else:\n",
    "        return \"Fail to reject the null hypothesis. There is no statistically significant difference.\"\n",
    "\n",
    "# Assuming nu is the degrees of freedom (nu = n - 1)\n",
    "nu = len(test_scores) - 1\n",
    "\n",
    "# Calculate mean and standard deviation\n",
    "mean, std_dev = calculate_mean_and_std(test_scores)\n",
    "\n",
    "# Calculate t-value\n",
    "n = len(test_scores)\n",
    "t_value = calculate_t_value(mean, std_dev, n)\n",
    "\n",
    "# Find t-star\n",
    "tn = find_t_star(nu)\n",
    "\n",
    "# Compare t-values \n",
    "result = compare_t_values(t_value, tn, nu)\n",
    "\n",
    "# Print results\n",
    "print(\"Mean:\", mean)\n",
    "print(\"Standard Deviation:\", std_dev)\n",
    "print(\"t-Value:\", t_value)\n",
    "print(\"t-Star:\", tn)\n",
    "print(\"Comparison Result:\", result)\n"
   ]
  },
  {
   "cell_type": "code",
   "execution_count": null,
   "id": "6144aaa3",
   "metadata": {},
   "outputs": [],
   "source": [
    "#The results show that nu is not equal to 75, in fact, the mean is higher although there is a large standard deviation. \n",
    "# It appears that the new teaching methods are beneficial although a higher data set might be better to prove this."
   ]
  }
 ],
 "metadata": {
  "kernelspec": {
   "display_name": "Python 3 (ipykernel)",
   "language": "python",
   "name": "python3"
  },
  "language_info": {
   "codemirror_mode": {
    "name": "ipython",
    "version": 3
   },
   "file_extension": ".py",
   "mimetype": "text/x-python",
   "name": "python",
   "nbconvert_exporter": "python",
   "pygments_lexer": "ipython3",
   "version": "3.11.4"
  }
 },
 "nbformat": 4,
 "nbformat_minor": 5
}
