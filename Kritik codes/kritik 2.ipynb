{
 "cells": [
  {
   "cell_type": "code",
   "execution_count": 62,
   "id": "3aac2fa6",
   "metadata": {},
   "outputs": [
    {
     "name": "stdout",
     "output_type": "stream",
     "text": [
      "0.50000005\n"
     ]
    }
   ],
   "source": [
    "import math\n",
    "\n",
    "a = 0.0000001 #start at a\n",
    "b = 1 #end at b\n",
    "\n",
    "def root(f,a,b):\n",
    "    if f(a)*f(b)>0:\n",
    "        return(\"none\")\n",
    "    while abs(b-a)>1**-10:\n",
    "        M=(a+b)/2  \n",
    "        if f(M)==0:\n",
    "            return M\n",
    "        if (f(M)*f(a)<0):\n",
    "            b = M\n",
    "        else:\n",
    "            a = M\n",
    "    return (a+b)/2.0\n",
    "\n",
    "def f(x): #here we define the function\n",
    "    return math.e**x + math.log(x)\n",
    "\n",
    "print(root(f,a,b))"
   ]
  },
  {
   "cell_type": "code",
   "execution_count": 2,
   "id": "1b928485",
   "metadata": {},
   "outputs": [
    {
     "ename": "NameError",
     "evalue": "name 'x' is not defined",
     "output_type": "error",
     "traceback": [
      "\u001b[0;31m---------------------------------------------------------------------------\u001b[0m",
      "\u001b[0;31mNameError\u001b[0m                                 Traceback (most recent call last)",
      "Cell \u001b[0;32mIn[2], line 18\u001b[0m\n\u001b[1;32m     14\u001b[0m             a \u001b[38;5;241m=\u001b[39m M\n\u001b[1;32m     15\u001b[0m     \u001b[38;5;28;01mreturn\u001b[39;00m (a\u001b[38;5;241m+\u001b[39mb)\u001b[38;5;241m/\u001b[39m\u001b[38;5;241m2.0\u001b[39m\n\u001b[0;32m---> 18\u001b[0m \u001b[38;5;28mprint\u001b[39m(root(math\u001b[38;5;241m.\u001b[39me\u001b[38;5;241m*\u001b[39m\u001b[38;5;241m*\u001b[39m\u001b[43mx\u001b[49m \u001b[38;5;241m+\u001b[39m math\u001b[38;5;241m.\u001b[39mlog(x),\u001b[38;5;241m0\u001b[39m,\u001b[38;5;241m1\u001b[39m))\n",
      "\u001b[0;31mNameError\u001b[0m: name 'x' is not defined"
     ]
    }
   ],
   "source": [
    "import math\n",
    "\n",
    "\n",
    "def root(f,a,b):\n",
    "    if f(a)*f(b)>0:\n",
    "        return(\"none\")\n",
    "    while abs(b-a)>1e-10:\n",
    "        M=(a+b)/2  \n",
    "        if f(M)==0:\n",
    "            return M\n",
    "        if (f(M)*f(a)<0):\n",
    "            b = M\n",
    "        else:\n",
    "            a = M\n",
    "    return (a+b)/2.0\n",
    "\n",
    "def f(\n",
    "print(root(math.e**x + math.log(x),0,1))"
   ]
  },
  {
   "cell_type": "code",
   "execution_count": null,
   "id": "f6064cc3",
   "metadata": {},
   "outputs": [],
   "source": []
  }
 ],
 "metadata": {
  "kernelspec": {
   "display_name": "Python 3 (ipykernel)",
   "language": "python",
   "name": "python3"
  },
  "language_info": {
   "codemirror_mode": {
    "name": "ipython",
    "version": 3
   },
   "file_extension": ".py",
   "mimetype": "text/x-python",
   "name": "python",
   "nbconvert_exporter": "python",
   "pygments_lexer": "ipython3",
   "version": "3.11.4"
  }
 },
 "nbformat": 4,
 "nbformat_minor": 5
}
