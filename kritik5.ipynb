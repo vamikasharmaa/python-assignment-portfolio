{
 "cells": [
  {
   "cell_type": "code",
   "execution_count": 7,
   "id": "07eb9a30",
   "metadata": {},
   "outputs": [
    {
     "ename": "SyntaxError",
     "evalue": "invalid syntax (468876880.py, line 50)",
     "output_type": "error",
     "traceback": [
      "\u001b[0;36m  Cell \u001b[0;32mIn[7], line 50\u001b[0;36m\u001b[0m\n\u001b[0;31m    next_point=....\u001b[0m\n\u001b[0m                    ^\u001b[0m\n\u001b[0;31mSyntaxError\u001b[0m\u001b[0;31m:\u001b[0m invalid syntax\n"
     ]
    }
   ],
   "source": [
    "import matplotlib.pylot as plt\n",
    "import random\n",
    "\n",
    "def isInside(x1,y1,x2,y2,x3,y3,x,y):\n",
    "    def area (x1,y1,x2,y2,x3,y3):\n",
    "        return abs ((x1*(y2-y3)+x2*(y3-y1)+x3*(y1-y2))/2.0)\n",
    "\n",
    "    A=area(x1,y1,x2,y2,x3,y3)\n",
    "    A1=area(x,y,x2,y2,x3,y3)\n",
    "    A2=area(x1,y1,x,y,x3,y3)\n",
    "    A3=area(x1,y1,x2,y2,x,y)\n",
    "    \n",
    "    return A==A1+A2+A3\n",
    "\n",
    "while True:\n",
    "    try:\n",
    "        seed_x=float(input(\"Enter the x-coordinate of the seed point:\"))\n",
    "        seed_y=float(input(\"Enter the y-coordinate of the seed point:\"))\n",
    "        if isInside(0,0,1,0,0.5,0.866,seed_x,seed_y):\n",
    "            print(\"Valid seed point entered.\")\n",
    "            break\n",
    "        else:\n",
    "            print(\"The point is not inside the triangle. Please try again\")\n",
    "    except ValueError:\n",
    "        print(\"Invalid input. Please enter numerical values.\")\n",
    "        \n",
    "seed=(seed_x,seed_y)\n",
    "\n",
    "points =[seed]\n",
    "\n",
    "while True:\n",
    "    try:\n",
    "        num_steps=int(input(\"Enter the number of steps:\"))\n",
    "        if num_steps > O: \n",
    "            print (f\"Number Of steps set to {num_steps} . \" ) \n",
    "            break \n",
    "        else:\n",
    "            print (\"Please enter a positive integer. \") \n",
    "    except ValueError : \n",
    "        print(\" Invalid input. Please enter a positive integer . \") \n",
    "\n",
    "for i in range (num_steps) : \n",
    "#choose a random vertex to move toward from the list 'vertices ' \n",
    "# You can use the python code random. randint(O, 2) to \n",
    "# choose a random integer between O and 2. Then you can use that random integer as \n",
    "# your code should 100k like \"next_vertex = vertex[ a random choice Of index] next vertex=.. \n",
    "#create the next point by moving from the last point, i.e. points [—1] , to the midpc \n",
    "# You may have to look up the formula for the midpoint of a line in the plane. \n",
    "\n",
    "    next_point=.... \n",
    "#add the new point to your list of points \n",
    "\n",
    "    points . append(... ) \n",
    "# Function to plot the solution set \n",
    "def plot_solution (points) : \n",
    "    plt.scatter( [p [O] for p in points] ,[p [1] for p in points],s=0.1) \n",
    "    plt.show() \n",
    "#plot your points \n",
    "plot_solution(points) \n",
    "\n",
    "\n",
    "    "
   ]
  },
  {
   "cell_type": "code",
   "execution_count": 3,
   "id": "ea705bd9",
   "metadata": {},
   "outputs": [
    {
     "name": "stdout",
     "output_type": "stream",
     "text": [
      "Enter the x-coordinate of the seed point: 0\n",
      "Enter the y-coordinate of the seed point: 0\n",
      "Valid seed point entered.\n",
      "Enter the number of steps: 100\n",
      "Number of steps set to 100.\n"
     ]
    },
    {
     "data": {
      "image/png": "[encoded data removed]",
      "text/plain": [
       "<Figure size 640x480 with 1 Axes>"
      ]
     },
     "metadata": {},
     "output_type": "display_data"
    }
   ],
   "source": [
    "import matplotlib.pyplot as plt\n",
    "import random\n",
    "\n",
    "#first part is Greg's code\n",
    "def isInside(x1, y1, x2, y2, x3, y3, x, y):\n",
    "    def area(x1, y1, x2, y2, x3, y3):\n",
    "        return abs((x1*(y2-y3) + x2*(y3-y1) + x3*(y1-y2))/2.0)\n",
    "\n",
    "    A = area(x1, y1, x2, y2, x3, y3)\n",
    "    A1 = area(x, y, x2, y2, x3, y3)\n",
    "    A2 = area(x1, y1, x, y, x3, y3)\n",
    "    A3 = area(x1, y1, x2, y2, x, y)\n",
    "\n",
    "    return A == A1 + A2 + A3\n",
    "\n",
    "while True:\n",
    "    try:\n",
    "        seed_x = float(input(\"Enter the x-coordinate of the seed point: \"))\n",
    "        seed_y = float(input(\"Enter the y-coordinate of the seed point: \"))\n",
    "        if isInside(0, 0, 1, 0, 0.5, 0.866, seed_x, seed_y):\n",
    "            print(\"Valid seed point entered.\")\n",
    "            break\n",
    "        else:\n",
    "            print(\"The point is not inside the triangle. Please try again.\")\n",
    "    except ValueError:\n",
    "        print(\"Invalid input. Please enter numerical values.\")\n",
    "\n",
    "seed = (seed_x, seed_y)\n",
    "points = [seed]\n",
    "\n",
    "while True:\n",
    "    try:\n",
    "        num_steps = int(input(\"Enter the number of steps: \"))\n",
    "        if num_steps > 0:\n",
    "            print(f\"Number of steps set to {num_steps}.\")\n",
    "            break\n",
    "        else:\n",
    "            print(\"Please enter a positive integer.\")\n",
    "    except ValueError:\n",
    "        print(\"Invalid input. Please enter a positive integer.\")\n",
    "\n",
    "# Define vertices of the equilateral triangle\n",
    "vertices = [(0, 0), (1, 0), (0.5, 0.866)]\n",
    "\n",
    "for i in range(num_steps):\n",
    "    # randome vertex to move towards\n",
    "    next_vertex = random.choice(vertices)\n",
    "\n",
    "    # midpoint formula\n",
    "    next_point = ((points[-1][0] + next_vertex[0]) / 2, (points[-1][1] + next_vertex[1]) / 2)\n",
    "\n",
    "    # Add the new point to the list of points\n",
    "    points.append(next_point)\n",
    "\n",
    "# Function to plot the solution set\n",
    "def plot_solution(points):\n",
    "    plt.scatter([p[0] for p in points], [p[1] for p in points], s=0.1)\n",
    "    plt.show()\n",
    "\n",
    "# Plot your points\n",
    "plot_solution(points)\n"
   ]
  },
  {
   "cell_type": "code",
   "execution_count": null,
   "id": "d25578d7",
   "metadata": {},
   "outputs": [],
   "source": []
  }
 ],
 "metadata": {
  "kernelspec": {
   "display_name": "Python 3 (ipykernel)",
   "language": "python",
   "name": "python3"
  },
  "language_info": {
   "codemirror_mode": {
    "name": "ipython",
    "version": 3
   },
   "file_extension": ".py",
   "mimetype": "text/x-python",
   "name": "python",
   "nbconvert_exporter": "python",
   "pygments_lexer": "ipython3",
   "version": "3.11.4"
  }
 },
 "nbformat": 4,
 "nbformat_minor": 5
}
